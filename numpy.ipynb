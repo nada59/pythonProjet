{
 "cells": [
  {
   "cell_type": "code",
   "execution_count": 22,
   "id": "6ef56923",
   "metadata": {},
   "outputs": [
    {
     "name": "stdout",
     "output_type": "stream",
     "text": [
      "[[1, 2], [3, 4]]\n",
      "<class 'list'>\n"
     ]
    }
   ],
   "source": [
    "#question 1\n",
    "import numpy as np\n",
    "x=np.array([[1,2],[3,4]])\n",
    "y=x.tolist()\n",
    "print(y)\n",
    "print(type(y))"
   ]
  },
  {
   "cell_type": "code",
   "execution_count": 15,
   "id": "44155f15",
   "metadata": {},
   "outputs": [
    {
     "name": "stdout",
     "output_type": "stream",
     "text": [
      "methode 1 \n",
      "3\n",
      "methode 2\n",
      "3\n"
     ]
    }
   ],
   "source": [
    "#question2\n",
    "import numpy as np\n",
    "x=np.array([[1,2,3],[0,1,0],[3,2,1]])\n",
    "print(\"methode 1 \")\n",
    "z=x.trace()\n",
    "print(z)\n",
    "\n",
    "print(\"methode 2\")\n",
    "a=np.diag(x)\n",
    "s=0\n",
    "for i in a:\n",
    "    s=s+i\n",
    "print(s)    "
   ]
  },
  {
   "cell_type": "code",
   "execution_count": 5,
   "id": "995126d7",
   "metadata": {},
   "outputs": [
    {
     "name": "stdout",
     "output_type": "stream",
     "text": [
      "3\n",
      "5\n"
     ]
    }
   ],
   "source": [
    "import numpy as np\n",
    "a =np.array([[1,2],[3,5]]) \n",
    "x=2\n",
    "for i in range(len(a)):\n",
    "    for j in range(len(a[i])):\n",
    "        \n",
    "        if x<a[i][j]:\n",
    "            print(a[i][j])\n",
    "    \n",
    "    \n",
    "    "
   ]
  },
  {
   "cell_type": "code",
   "execution_count": 21,
   "id": "3d986516",
   "metadata": {},
   "outputs": [
    {
     "data": {
      "text/plain": [
       "array([[1, 1],\n",
       "       [1, 1]])"
      ]
     },
     "execution_count": 21,
     "metadata": {},
     "output_type": "execute_result"
    }
   ],
   "source": [
    "#question 4\n",
    "import numpy as np\n",
    "A =np.array([[0,1],[1,0]]) \n",
    "B=np.array([[1,0],[0,1]])\n",
    "c=np.array([[0,0],[0,0]])\n",
    "\n",
    "for i in range(len(A)):\n",
    "    for j in range(len(A[i])):\n",
    "        c[i][j]=A[i][j]+B[i][j]\n",
    "c        \n",
    "\n"
   ]
  },
  {
   "cell_type": "code",
   "execution_count": 12,
   "id": "11f7179c",
   "metadata": {},
   "outputs": [
    {
     "name": "stdout",
     "output_type": "stream",
     "text": [
      "Original matrix:\n",
      "\n",
      "[[0.06846671 0.03078435 0.35157611]\n",
      " [0.35912432 0.67195828 0.79679841]]\n",
      "\n",
      "Subtract the mean of each row of the said matrix:\n",
      "\n",
      "[[-0.08180902 -0.11949137  0.20130039]\n",
      " [-0.25016935  0.06266461  0.18750474]]\n"
     ]
    }
   ],
   "source": [
    "#question 5\n",
    "import numpy as np\n",
    "print(\"Original matrix:\\n\")\n",
    "X = np.random.rand(2,3)\n",
    "print(X)\n",
    "print(\"\\nSubtract the mean of each row of the said matrix:\\n\")\n",
    "Y = X - X.mean(axis=1, keepdims=True)\n",
    "print(Y)\n"
   ]
  },
  {
   "cell_type": "code",
   "execution_count": null,
   "id": "0fba79e9",
   "metadata": {},
   "outputs": [],
   "source": []
  }
 ],
 "metadata": {
  "kernelspec": {
   "display_name": "Python 3",
   "language": "python",
   "name": "python3"
  },
  "language_info": {
   "codemirror_mode": {
    "name": "ipython",
    "version": 3
   },
   "file_extension": ".py",
   "mimetype": "text/x-python",
   "name": "python",
   "nbconvert_exporter": "python",
   "pygments_lexer": "ipython3",
   "version": "3.8.8"
  }
 },
 "nbformat": 4,
 "nbformat_minor": 5
}
