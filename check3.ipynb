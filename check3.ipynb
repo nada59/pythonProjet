{
 "cells": [
  {
   "cell_type": "code",
   "execution_count": 25,
   "id": "892fea0c",
   "metadata": {},
   "outputs": [
    {
     "name": "stdout",
     "output_type": "stream",
     "text": [
      "36\n"
     ]
    }
   ],
   "source": [
    "#question 1\n",
    "l=[2,3,6]\n",
    "s=1\n",
    "for i in l:\n",
    "    s*=i\n",
    "print(s)\n",
    "\n",
    "    \n"
   ]
  },
  {
   "cell_type": "code",
   "execution_count": null,
   "id": "7ecd3f9e",
   "metadata": {},
   "outputs": [],
   "source": [
    "#question 2\n",
    "l=[(2, 5), (1, 2), (4, 4), (2, 3), (2, 1)]\n",
    "print(sorted(l, key = lambda x: int(x[1]), reverse = True))\n",
    "\n",
    "\n",
    "    \n",
    "        "
   ]
  },
  {
   "cell_type": "code",
   "execution_count": 48,
   "id": "779aa698",
   "metadata": {},
   "outputs": [
    {
     "name": "stdout",
     "output_type": "stream",
     "text": [
      "{'a': 400, 'b': 400, 'c': 300, 'd': 400}\n"
     ]
    }
   ],
   "source": [
    "#question 3\n",
    "d1 = {'a': 100, 'b': 200, 'c':300}\n",
    "d2 = {'a': 300, 'b': 200, 'd':400}\n",
    "d3={}\n",
    "for i in d1:\n",
    "    if i in d2:\n",
    "        d3[i]=d1[i]+d2[i]\n",
    "            \n",
    "    else:\n",
    "        d3[i]=d1[i]\n",
    "for j in d2:\n",
    "    if j not in d3:\n",
    "        d3[j]=d2[j]\n",
    "        \n",
    "        \n",
    "print(d3)            \n",
    "            \n",
    "    "
   ]
  },
  {
   "cell_type": "code",
   "execution_count": 54,
   "id": "cd4151f6",
   "metadata": {},
   "outputs": [
    {
     "name": "stdout",
     "output_type": "stream",
     "text": [
      "8\n",
      "{1: 1, 2: 4, 3: 9, 4: 16, 5: 25, 6: 36, 7: 49, 8: 64}\n"
     ]
    }
   ],
   "source": [
    "#question 4\n",
    "x=int(input())\n",
    "d={}\n",
    "for i in range(1,x+1):\n",
    "    d[i]=i*i\n",
    "print(d)    "
   ]
  },
  {
   "cell_type": "code",
   "execution_count": null,
   "id": "93a3ee10",
   "metadata": {},
   "outputs": [],
   "source": [
    "#question 5\n",
    "l= [('item1', '12.20'), ('item2', '15.10'), ('item3', '24.5')]\n",
    "sorted(l, key = lambda x: float(x[1]), reverse = True)\n",
    "print(l)\n",
    "#j=1\n",
    "#t=[]\n",
    "#x=float(l[0][1])\n",
    "#while j<=len(l):\n",
    " #   if float(l[j][1])>x :\n",
    " #       x=float(l[j][1])\n",
    "  #      t[]=l[j]\n",
    "   #     l[j]=l[j+1]\n",
    "    #    l[j+1]=t[]\n",
    "    #j+=1\n",
    "#print(l))        \n",
    "        \n",
    "    \n",
    "    \n",
    "    \n",
    "    \n",
    "\n"
   ]
  },
  {
   "cell_type": "code",
   "execution_count": null,
   "id": "c4e61092",
   "metadata": {},
   "outputs": [],
   "source": []
  }
 ],
 "metadata": {
  "kernelspec": {
   "display_name": "Python 3",
   "language": "python",
   "name": "python3"
  },
  "language_info": {
   "codemirror_mode": {
    "name": "ipython",
    "version": 3
   },
   "file_extension": ".py",
   "mimetype": "text/x-python",
   "name": "python",
   "nbconvert_exporter": "python",
   "pygments_lexer": "ipython3",
   "version": "3.8.8"
  }
 },
 "nbformat": 4,
 "nbformat_minor": 5
}
