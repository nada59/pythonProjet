{
 "cells": [
  {
   "cell_type": "code",
   "execution_count": 12,
   "id": "fcec9498",
   "metadata": {},
   "outputs": [
    {
     "name": "stdout",
     "output_type": "stream",
     "text": [
      "False\n",
      "True\n"
     ]
    }
   ],
   "source": [
    "#question 1\n",
    "def binary_search(l,x):\n",
    "    h=len(l)-1\n",
    "    i=0\n",
    "    var= False\n",
    "    while(h>=i and not var) :\n",
    "        mid=(i+h)// 2\n",
    "        if l[mid]==x:\n",
    "            var= True\n",
    "        elif l[mid]>x:\n",
    "            h=mid-1\n",
    "        else:\n",
    "            i=mid+1\n",
    "            \n",
    "    \n",
    "    return var\n",
    "print(binary_search([1,2,3,5,8], 6))\n",
    "print(binary_search([1,2,3,5,8], 5))\n"
   ]
  },
  {
   "cell_type": "code",
   "execution_count": 23,
   "id": "f70df2df",
   "metadata": {},
   "outputs": [
    {
     "name": "stdout",
     "output_type": "stream",
     "text": [
      "81\n",
      "81\n"
     ]
    }
   ],
   "source": [
    "#question 2\n",
    "#methode sans recursivité\n",
    "def power(y,x):\n",
    "    g=1\n",
    "    for i in range(x):\n",
    "        g=g*y\n",
    "    return g\n",
    "\n",
    "print(power(3,4))\n",
    "#methode avec recursivité\n",
    "def power2(x,y):\n",
    "    if y==0:\n",
    "        return 0\n",
    "    elif x==0:\n",
    "        return 1\n",
    "    elif y==1:\n",
    "        return y\n",
    "    else:\n",
    "        return y*power(x,y-1)\n",
    "print(power(3,4) )  \n"
   ]
  },
  {
   "cell_type": "code",
   "execution_count": 24,
   "id": "cbcc102a",
   "metadata": {},
   "outputs": [
    {
     "data": {
      "text/plain": [
       "[13, 22, 29, 37, 46, 49, 52, 56, 71]"
      ]
     },
     "execution_count": 24,
     "metadata": {},
     "output_type": "execute_result"
    }
   ],
   "source": [
    "#question 3\n",
    "def bubbleSort(l):\n",
    "    for k in range(len(l)-1,0,-1):\n",
    "        for i in range(k):\n",
    "            if l[i]>l[i+1]:\n",
    "                temp=l[i]\n",
    "                l[i]=l[i+1]\n",
    "                l[i+1]=temp\n",
    "    return l   \n",
    "bubbleSort([29,13,22,37,52,49,46,71,56])\n",
    "                "
   ]
  },
  {
   "cell_type": "code",
   "execution_count": 35,
   "id": "5ba6694f",
   "metadata": {},
   "outputs": [
    {
     "name": "stdout",
     "output_type": "stream",
     "text": [
      "[13, 22, 29, 37, 46, 49, 52, 56, 71]\n"
     ]
    }
   ],
   "source": [
    "#question 4\n",
    "def mergeSort(l):\n",
    "    if len(l) > 1:\n",
    "        mid = len(l) // 2\n",
    "        left = l[:mid]\n",
    "        right = l[mid:]\n",
    "\n",
    "        \n",
    "        mergeSort(left)\n",
    "        mergeSort(right)\n",
    "\n",
    "        i = 0\n",
    "        j = 0\n",
    "        k = 0\n",
    "        \n",
    "        while i < len(left) and j < len(right):\n",
    "            if left[i] < right[j]:\n",
    "                l[k] = left[i]\n",
    "                i += 1\n",
    "            else:\n",
    "                l[k] = right[j]\n",
    "                j += 1\n",
    "            k += 1\n",
    "\n",
    "        while i < len(left):\n",
    "            l[k] = left[i]\n",
    "            i += 1\n",
    "            k += 1\n",
    "\n",
    "        while j < len(right):\n",
    "            l[k]=right[j]\n",
    "            j += 1\n",
    "            k += 1\n",
    "\n",
    "l=[29,13,22,37,52,49,46,71,56]\n",
    "mergeSort(l)\n",
    "print(l)"
   ]
  },
  {
   "cell_type": "code",
   "execution_count": 32,
   "id": "430c35fb",
   "metadata": {},
   "outputs": [
    {
     "name": "stdout",
     "output_type": "stream",
     "text": [
      "[13, 22, 29, 37, 46, 49, 52, 56, 71]\n"
     ]
    }
   ],
   "source": [
    "#question 5\n",
    "def partition(array, start, end):\n",
    "    pivot = array[start]\n",
    "    low = start + 1\n",
    "    high = end\n",
    "    while True:\n",
    "        while low <= high and array[high] >= pivot:\n",
    "            high = high - 1\n",
    "\n",
    "        while low <= high and array[low] <= pivot:\n",
    "            low = low + 1\n",
    "\n",
    "        if low <= high:\n",
    "            array[low], array[high] = array[high], array[low]\n",
    "        else:\n",
    "            break\n",
    "\n",
    "    array[start], array[high] = array[high], array[start]\n",
    "\n",
    "    return high\n",
    "def quick_sort(array, start, end):\n",
    "    if start >= end:\n",
    "        return\n",
    "\n",
    "    p = partition(array, start, end)\n",
    "    quick_sort(array, start, p-1)\n",
    "    quick_sort(array, p+1, end)\n",
    "array=[29,13,22,37,52,49,46,71,56]\n",
    "quick_sort(array, 0, len(array) - 1)\n",
    "print(array)\n"
   ]
  },
  {
   "cell_type": "code",
   "execution_count": null,
   "id": "73e2fff6",
   "metadata": {},
   "outputs": [],
   "source": []
  },
  {
   "cell_type": "code",
   "execution_count": null,
   "id": "d667f3a5",
   "metadata": {},
   "outputs": [],
   "source": []
  }
 ],
 "metadata": {
  "kernelspec": {
   "display_name": "Python 3",
   "language": "python",
   "name": "python3"
  },
  "language_info": {
   "codemirror_mode": {
    "name": "ipython",
    "version": 3
   },
   "file_extension": ".py",
   "mimetype": "text/x-python",
   "name": "python",
   "nbconvert_exporter": "python",
   "pygments_lexer": "ipython3",
   "version": "3.8.8"
  }
 },
 "nbformat": 4,
 "nbformat_minor": 5
}
