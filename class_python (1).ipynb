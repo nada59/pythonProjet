{
 "cells": [
  {
   "cell_type": "code",
   "execution_count": 19,
   "id": "a8377fea",
   "metadata": {},
   "outputs": [
    {
     "name": "stdout",
     "output_type": "stream",
     "text": [
      "(1, 2, 3)\n"
     ]
    }
   ],
   "source": [
    "#question 1\n",
    "class Point3D:\n",
    "    def __init__(self,x,y,z):\n",
    "        self.x=x\n",
    "        self.y=y\n",
    "        self.z=z\n",
    "    def pointt(self):\n",
    "        return(self.x ,self.y  ,self.z)\n",
    "    \n",
    "my_point=Point3D(1,2,3)\n",
    "print (my_point.pointt())"
   ]
  },
  {
   "cell_type": "code",
   "execution_count": 18,
   "id": "9d7f73d3",
   "metadata": {},
   "outputs": [
    {
     "name": "stdout",
     "output_type": "stream",
     "text": [
      "12\n",
      "14\n"
     ]
    }
   ],
   "source": [
    "#question 2\n",
    "class Rectangle:\n",
    "    def __init__(self,width,length):\n",
    "        self.width=width\n",
    "        self.length=length\n",
    "        \n",
    "    def area(self):\n",
    "        return self.width*self.length\n",
    "    \n",
    "    def perimeter(self): \n",
    "        return 2*(self.width+self.length)\n",
    "    \n",
    "my_rectangle=Rectangle(3,4)\n",
    "print (my_rectangle.area())\n",
    "print(my_rectangle.perimeter())\n",
    "\n",
    "    \n",
    "    "
   ]
  },
  {
   "cell_type": "code",
   "execution_count": 1,
   "id": "505a3a65",
   "metadata": {},
   "outputs": [
    {
     "name": "stdout",
     "output_type": "stream",
     "text": [
      "the point belongs to the cercle\n"
     ]
    }
   ],
   "source": [
    "#question3\n",
    "class Cercle:\n",
    "    def __init__(self,O,radius):\n",
    "        self.O=O\n",
    "        self.radius=radius\n",
    "    \n",
    "    def area(self):\n",
    "        return 3.14*self.radius**2\n",
    "    \n",
    "    def perimeter(self):\n",
    "        return 2*3.14*self.radius\n",
    "    \n",
    "    def isInside(self):\n",
    "        if (x**2+y**2)<=self.radius**2:\n",
    "            return \"the point belongs to the cercle\"\n",
    "        else:\n",
    "            return\"no\"\n",
    "        \n",
    "my_cercle=Cercle(0,2)\n",
    "x=1\n",
    "y=1\n",
    "print(my_cercle.isInside())\n",
    "        \n",
    "    \n",
    "    "
   ]
  },
  {
   "cell_type": "code",
   "execution_count": 6,
   "id": "b6071a8a",
   "metadata": {
    "scrolled": true
   },
   "outputs": [
    {
     "name": "stdout",
     "output_type": "stream",
     "text": [
      "Enter amount : 100\n",
      "100.0\n"
     ]
    }
   ],
   "source": [
    "#question4\n",
    "class bank:\n",
    "    def __init__(self,balance):\n",
    "        self.balance=balance\n",
    "        \n",
    "    def deposit(self):\n",
    "        amount = float(input(\"Enter amount : \"))\n",
    "        self.balance += amount\n",
    "        return( amount)\n",
    "    \n",
    "    def withdraw(self):\n",
    "        amount = float(input(\"Enter amount : \"))\n",
    "        if self.balance >= amount:\n",
    "            self.balance -= amount\n",
    "            return( amount)\n",
    "        else:\n",
    "            return(\"solde insuffisant \")\n",
    "            \n",
    "solde=bank(4000)\n",
    "print(solde.deposit())\n",
    "#print(solde.withdraw())\n",
    "    "
   ]
  },
  {
   "cell_type": "code",
   "execution_count": null,
   "id": "0d5dc0d1",
   "metadata": {},
   "outputs": [],
   "source": []
  },
  {
   "cell_type": "code",
   "execution_count": null,
   "id": "11c4e831",
   "metadata": {},
   "outputs": [],
   "source": []
  }
 ],
 "metadata": {
  "kernelspec": {
   "display_name": "Python 3",
   "language": "python",
   "name": "python3"
  }
 },
 "nbformat": 4,
 "nbformat_minor": 5
}
