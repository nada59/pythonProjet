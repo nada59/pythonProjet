{
 "cells": [
  {
   "cell_type": "code",
   "execution_count": 3,
   "id": "c9b442e9",
   "metadata": {},
   "outputs": [
    {
     "data": {
      "text/plain": [
       "35"
      ]
     },
     "execution_count": 3,
     "metadata": {},
     "output_type": "execute_result"
    }
   ],
   "source": [
    "#question 1\n",
    "\n",
    "def max(a,b,c):\n",
    "    if a>b and a>c:\n",
    "        return a\n",
    "    if b>a and b>c:\n",
    "        return b\n",
    "    else:\n",
    "        return c\n",
    "max(20,35,19)    "
   ]
  },
  {
   "cell_type": "code",
   "execution_count": 4,
   "id": "92071d6c",
   "metadata": {},
   "outputs": [
    {
     "data": {
      "text/plain": [
       "(30, 50)"
      ]
     },
     "execution_count": 4,
     "metadata": {},
     "output_type": "execute_result"
    }
   ],
   "source": [
    "#question2\n",
    "\n",
    "def calculation(x,y):\n",
    "    return x-y,x+y\n",
    "calculation(40,10)"
   ]
  },
  {
   "cell_type": "code",
   "execution_count": 10,
   "id": "9f5c059c",
   "metadata": {},
   "outputs": [
    {
     "name": "stdout",
     "output_type": "stream",
     "text": [
      "11\n",
      "30\n"
     ]
    },
    {
     "data": {
      "text/plain": [
       "(4, 10)"
      ]
     },
     "execution_count": 10,
     "metadata": {},
     "output_type": "execute_result"
    }
   ],
   "source": [
    "#question3\n",
    "#A\n",
    "def summ(l):\n",
    "    x=0\n",
    "    for i in l:\n",
    "        x+=i\n",
    "    return x\n",
    "\n",
    "#B\n",
    "def mul(l):\n",
    "    h=1\n",
    "    for i in l:\n",
    "        h*=i\n",
    "    return h  \n",
    "#c\n",
    "\n",
    "def sumandmul(l):\n",
    "    l1=[]\n",
    "    l2=[]\n",
    "    for i in range(len(l)):\n",
    "        if i%2==0:\n",
    "            l1.append(l[i])\n",
    "        else:\n",
    "            l2.append(l[i])\n",
    "    x=summ(l1)\n",
    "    y=mul(l2)\n",
    "    return x,y\n",
    "\n",
    "l=[1,2,3,5]\n",
    "print(summ(l))\n",
    "print(mul(l))\n",
    "sumandmul(l)\n"
   ]
  },
  {
   "cell_type": "code",
   "execution_count": null,
   "id": "80f13cef",
   "metadata": {},
   "outputs": [],
   "source": []
  },
  {
   "cell_type": "code",
   "execution_count": 27,
   "id": "fc5e2a7c",
   "metadata": {},
   "outputs": [
    {
     "name": "stdout",
     "output_type": "stream",
     "text": [
      "black-green-red-white-yellow\n"
     ]
    }
   ],
   "source": [
    "#question 4\n",
    "def ordonner(sh):\n",
    "    \n",
    "    ch=[n for n in sh.split('-')]\n",
    "    ch.sort()\n",
    "    print('-'.join(ch))\n",
    "sh=\"green-red-yellow-black-white\"\n",
    "ordonner(sh)\n"
   ]
  },
  {
   "cell_type": "code",
   "execution_count": 15,
   "id": "300a95b1",
   "metadata": {},
   "outputs": [
    {
     "name": "stdout",
     "output_type": "stream",
     "text": [
      "Provide D: 100,150,180\n",
      "18,22,24\n"
     ]
    }
   ],
   "source": [
    "#question 5\n",
    "import math\n",
    "\n",
    "c=50\n",
    "h=30\n",
    "value = []\n",
    "numbers = input(\"Provide D: \")\n",
    "numbers = numbers.split(',')\n",
    "for d in numbers:\n",
    "    value.append(str(int(round(math.sqrt(2*c*float(d)/h)))))\n",
    "\n",
    "print(','.join(value))"
   ]
  },
  {
   "cell_type": "code",
   "execution_count": null,
   "id": "28be0eb6",
   "metadata": {},
   "outputs": [],
   "source": []
  },
  {
   "cell_type": "code",
   "execution_count": null,
   "id": "a2a93d84",
   "metadata": {},
   "outputs": [],
   "source": []
  }
 ],
 "metadata": {
  "kernelspec": {
   "display_name": "Python 3",
   "language": "python",
   "name": "python3"
  },
  "language_info": {
   "codemirror_mode": {
    "name": "ipython",
    "version": 3
   },
   "file_extension": ".py",
   "mimetype": "text/x-python",
   "name": "python",
   "nbconvert_exporter": "python",
   "pygments_lexer": "ipython3",
   "version": "3.8.8"
  }
 },
 "nbformat": 4,
 "nbformat_minor": 5
}
