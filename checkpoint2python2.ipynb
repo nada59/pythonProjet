{
 "cells": [
  {
   "cell_type": "code",
   "execution_count": 14,
   "id": "ab428b08",
   "metadata": {},
   "outputs": [
    {
     "name": "stdout",
     "output_type": "stream",
     "text": [
      "nada\n",
      "ben lamine\n",
      "nada ben lamine\n"
     ]
    }
   ],
   "source": [
    "#Question 1\n",
    "lastName=input()\n",
    "firstName=input()\n",
    "print(lastName+\" \"+firstName)"
   ]
  },
  {
   "cell_type": "code",
   "execution_count": 15,
   "id": "90a75ff1",
   "metadata": {},
   "outputs": [
    {
     "name": "stdout",
     "output_type": "stream",
     "text": [
      "8\n",
      "984\n"
     ]
    }
   ],
   "source": [
    "#Question 2\n",
    "n=int(input())\n",
    "nn=int(str(n)+str(n))\n",
    "nnn=int(str(n)+str(n)+str(n))\n",
    "print(n+nn+nnn)\n",
    "    "
   ]
  },
  {
   "cell_type": "code",
   "execution_count": 16,
   "id": "17d2a736",
   "metadata": {},
   "outputs": [
    {
     "name": "stdout",
     "output_type": "stream",
     "text": [
      "8\n",
      "even\n"
     ]
    }
   ],
   "source": [
    "#Question 3\n",
    "x=int(input())\n",
    "if x % 2 ==0:\n",
    "    print(\"even\")\n",
    "else:\n",
    "    print(\"odd\")\n"
   ]
  },
  {
   "cell_type": "code",
   "execution_count": 17,
   "id": "0943cd0b",
   "metadata": {},
   "outputs": [
    {
     "name": "stdout",
     "output_type": "stream",
     "text": [
      "2002 2009 2016 2023 2037 2044 2051 2058 2072 2079 2086 2093 2107 2114 2121 2128 2142 2149 2156 2163 2177 2184 2191 2198 2212 2219 2226 2233 2247 2254 2261 2268 2282 2289 2296 2303 2317 2324 2331 2338 2352 2359 2366 2373 2387 2394 2401 2408 2422 2429 2436 2443 2457 2464 2471 2478 2492 2499 2506 2513 2527 2534 2541 2548 2562 2569 2576 2583 2597 2604 2611 2618 2632 2639 2646 2653 2667 2674 2681 2688 2702 2709 2716 2723 2737 2744 2751 2758 2772 2779 2786 2793 2807 2814 2821 2828 2842 2849 2856 2863 2877 2884 2891 2898 2912 2919 2926 2933 2947 2954 2961 2968 2982 2989 2996 3003 3017 3024 3031 3038 3052 3059 3066 3073 3087 3094 3101 3108 3122 3129 3136 3143 3157 3164 3171 3178 3192 3199 "
     ]
    }
   ],
   "source": [
    "#Question 4\n",
    "for i in range (2000,3201):\n",
    "    if i % 7==0 and i% 5 !=0:\n",
    "        print(i,end=\" \")\n",
    "    \n",
    "    "
   ]
  },
  {
   "cell_type": "code",
   "execution_count": 7,
   "id": "f77f8902",
   "metadata": {},
   "outputs": [
    {
     "name": "stdout",
     "output_type": "stream",
     "text": [
      "8\n",
      "8!= 40320\n"
     ]
    }
   ],
   "source": [
    "#Question 5\n",
    "k=int(input())\n",
    "s=1\n",
    "for i in range (k):\n",
    "    s=s+s*i\n",
    "print(str(k)+\"!\"+\"=\",s)    \n",
    "    \n",
    "    \n"
   ]
  },
  {
   "cell_type": "code",
   "execution_count": 1,
   "id": "6ea90570",
   "metadata": {},
   "outputs": [
    {
     "name": "stdout",
     "output_type": "stream",
     "text": [
      "hello team\n",
      " hlota\n"
     ]
    }
   ],
   "source": [
    "#Question 6\n",
    "ch=input()\n",
    "result=\" \"\n",
    "for i in range(len(ch)):\n",
    "    if i % 2 ==0:\n",
    "        result=result+ch[i]\n",
    "print(result)\n"
   ]
  },
  {
   "cell_type": "code",
   "execution_count": 3,
   "id": "889a7638",
   "metadata": {},
   "outputs": [
    {
     "name": "stdout",
     "output_type": "stream",
     "text": [
      "le prix de l'article 845\n",
      "le prix est 422.5\n"
     ]
    }
   ],
   "source": [
    "#Question 7\n",
    "x=float(input(\"le prix de l'article \"))\n",
    "if (x>=500):\n",
    "    print(\"le prix est\",x/2)\n",
    "elif (x<=200):\n",
    "    print(\"le prix est\",x*90/100)\n",
    "else:\n",
    "    print(\"le prix est\",x*70/100)"
   ]
  },
  {
   "cell_type": "code",
   "execution_count": null,
   "id": "cda3cdea",
   "metadata": {},
   "outputs": [],
   "source": []
  }
 ],
 "metadata": {
  "kernelspec": {
   "display_name": "Python 3",
   "language": "python",
   "name": "python3"
  },
  "language_info": {
   "codemirror_mode": {
    "name": "ipython",
    "version": 3
   },
   "file_extension": ".py",
   "mimetype": "text/x-python",
   "name": "python",
   "nbconvert_exporter": "python",
   "pygments_lexer": "ipython3",
   "version": "3.8.8"
  }
 },
 "nbformat": 4,
 "nbformat_minor": 5
}
