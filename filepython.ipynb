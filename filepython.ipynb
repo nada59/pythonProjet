{
 "cells": [
  {
   "cell_type": "code",
   "execution_count": 20,
   "id": "f47d55f2",
   "metadata": {},
   "outputs": [
    {
     "data": {
      "text/plain": [
       "'What is Python language?                                                \\nPython is a widely used high-level, general-purpose, interpreted, dynamic programming language.Its design philosophy emphasizes code readability, and its syntax allows programmers to express concepts in fewer lines of code than possible in \\nlanguages such as C++ or Java. \\nPython supports multiple programming paradigms, including object-oriented, imperative and functional programming or procedural styles. It features a dynamic type system and automatic memory management and has a large and comprehensive standard library.The best way we learn anything is by practice and exercise questions. We  have started this section for those (beginner to intermediate) who are familiar with Python.'"
      ]
     },
     "execution_count": 20,
     "metadata": {},
     "output_type": "execute_result"
    }
   ],
   "source": [
    "#question 1\n",
    "f=open('.\\Downloads\\python.txt','r')\n",
    "f.read()\n",
    "        \n"
   ]
  },
  {
   "cell_type": "code",
   "execution_count": 45,
   "id": "b323ccb2",
   "metadata": {},
   "outputs": [
    {
     "name": "stdout",
     "output_type": "stream",
     "text": [
      "What is Python language?                                                \n",
      "\n",
      "Python is a widely used high-level, general-purpose, interpreted, dynamic programming language.Its design philosophy emphasizes code readability, and its syntax allows programmers to express concepts in fewer lines of code than possible in \n",
      "\n",
      "languages such as C++ or Java. \n",
      "\n"
     ]
    },
    {
     "data": {
      "text/plain": [
       "['Python supports multiple programming paradigms, including object-oriented, imperative and functional programming or procedural styles. It features a dynamic type system and automatic memory management and has a large and comprehensive standard library.The best way we learn anything is by practice and exercise questions. We  have started this section for those (beginner to intermediate) who are familiar with Python.']"
      ]
     },
     "execution_count": 45,
     "metadata": {},
     "output_type": "execute_result"
    }
   ],
   "source": [
    "#question 2\n",
    "f=open('.\\Downloads\\python.txt','r')\n",
    "for i in range(3):\n",
    "      print(f.readline())\n",
    "#meth 2\n",
    "l=[]\n",
    "l=f.readlines()\n",
    "l[0:3]"
   ]
  },
  {
   "cell_type": "code",
   "execution_count": 53,
   "id": "ecdd4126",
   "metadata": {},
   "outputs": [
    {
     "data": {
      "text/plain": [
       "['Python is a widely used high-level, general-purpose, interpreted, dynamic programming language.Its design philosophy emphasizes code readability, and its syntax allows programmers to express concepts in fewer lines of code than possible in \\n',\n",
       " 'languages such as C++ or Java. \\n',\n",
       " 'Python supports multiple programming paradigms, including object-oriented, imperative and functional programming or procedural styles. It features a dynamic type system and automatic memory management and has a large and comprehensive standard library.The best way we learn anything is by practice and exercise questions. We  have started this section for those (beginner to intermediate) who are familiar with Python.']"
      ]
     },
     "execution_count": 53,
     "metadata": {},
     "output_type": "execute_result"
    }
   ],
   "source": [
    "#question 3\n",
    "f=open('.\\Downloads\\python.txt','r')\n",
    "g=[]\n",
    "g=f.readlines()\n",
    "g[-3:]\n"
   ]
  },
  {
   "cell_type": "code",
   "execution_count": 23,
   "id": "78273a82",
   "metadata": {},
   "outputs": [
    {
     "name": "stdout",
     "output_type": "stream",
     "text": [
      "148\n"
     ]
    }
   ],
   "source": [
    "#question 4\n",
    "f=open('.\\Downloads\\python.txt','r') \n",
    "g=f.read()\n",
    "print(len(g.split(\" \")))\n",
    "\n"
   ]
  },
  {
   "cell_type": "code",
   "execution_count": null,
   "id": "8bd339f3",
   "metadata": {},
   "outputs": [],
   "source": [
    "#question 5\n"
   ]
  },
  {
   "cell_type": "code",
   "execution_count": null,
   "id": "13b096a2",
   "metadata": {},
   "outputs": [],
   "source": []
  }
 ],
 "metadata": {
  "kernelspec": {
   "display_name": "Python 3",
   "language": "python",
   "name": "python3"
  },
  "language_info": {
   "codemirror_mode": {
    "name": "ipython",
    "version": 3
   },
   "file_extension": ".py",
   "mimetype": "text/x-python",
   "name": "python",
   "nbconvert_exporter": "python",
   "pygments_lexer": "ipython3",
   "version": "3.8.8"
  }
 },
 "nbformat": 4,
 "nbformat_minor": 5
}
